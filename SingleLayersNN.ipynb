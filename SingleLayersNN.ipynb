{
  "nbformat": 4,
  "nbformat_minor": 0,
  "metadata": {
    "colab": {
      "name": "SingleLayersNN.ipynb",
      "version": "0.3.2",
      "provenance": [],
      "include_colab_link": true
    },
    "kernelspec": {
      "name": "python3",
      "display_name": "Python 3"
    }
  },
  "cells": [
    {
      "cell_type": "markdown",
      "metadata": {
        "id": "view-in-github",
        "colab_type": "text"
      },
      "source": [
        "<a href=\"https://colab.research.google.com/github/jeffersonquispe/Tuto_Pytorch/blob/master/SingleLayersNN.ipynb\" target=\"_parent\"><img src=\"https://colab.research.google.com/assets/colab-badge.svg\" alt=\"Open In Colab\"/></a>"
      ]
    },
    {
      "cell_type": "code",
      "metadata": {
        "id": "ErcKATVyig5o",
        "colab_type": "code",
        "colab": {}
      },
      "source": [
        "import torch"
      ],
      "execution_count": 0,
      "outputs": []
    },
    {
      "cell_type": "code",
      "metadata": {
        "id": "vjTe6yjXjBp1",
        "colab_type": "code",
        "colab": {}
      },
      "source": [
        "def activation(x):\n",
        "  \n",
        "  \"\"\"\n",
        "    Sigmond activation function:\n",
        "    x:torch.Tensor\n",
        "  \"\"\"\n",
        "  return 1/(1+torch.exp(-x))"
      ],
      "execution_count": 0,
      "outputs": []
    },
    {
      "cell_type": "code",
      "metadata": {
        "id": "rbdTXPEPjjfm",
        "colab_type": "code",
        "colab": {}
      },
      "source": [
        "###Generate some data\n",
        "torch.manual_seed(7)# set the random seed\n",
        "features =torch.randn((1,3))#5 random normal varaibles\n",
        "weights = torch.randn_like(features)#pesos de la data, randon variables again\n",
        "bias=torch.randn((1,1))# and a true bias term\n",
        "n_inputs=features.shape[1]\n",
        "n_hidden=2\n",
        "n_output=1\n",
        "\n",
        "W1=torch.randn(n_input, n_hidden)\n",
        "W2=torch.randn(n_hidden,n_output)\n",
        "\n",
        "B1=torch.randn(1,n_hidden)\n",
        "B2=torch.randn(1,n_output)"
      ],
      "execution_count": 0,
      "outputs": []
    },
    {
      "cell_type": "code",
      "metadata": {
        "id": "-4NB827xoH86",
        "colab_type": "code",
        "outputId": "c78e6f3e-b964-417c-92a5-e7cb2af6c494",
        "colab": {
          "base_uri": "https://localhost:8080/",
          "height": 85
        }
      },
      "source": [
        "sum = torch.sum(torch.mm(features, weights.view(3, 1)))+ bias\n",
        "print(sum)\n",
        "print(features)\n",
        "print(bias)\n",
        "print(n_inputs)"
      ],
      "execution_count": 18,
      "outputs": [
        {
          "output_type": "stream",
          "text": [
            "tensor([[0.2899]])\n",
            "tensor([[-0.1468,  0.7861,  0.9468]])\n",
            "tensor([[-0.3556]])\n",
            "3\n"
          ],
          "name": "stdout"
        }
      ]
    },
    {
      "cell_type": "code",
      "metadata": {
        "id": "9YaCaqFHJ_Kq",
        "colab_type": "code",
        "outputId": "fac134ea-bf73-429e-94dd-280dc50e9c91",
        "colab": {
          "base_uri": "https://localhost:8080/",
          "height": 130
        }
      },
      "source": [
        "y=activation(torch.sum(torch.mm(torch.sum(torch.mm(features,W1.view(3,1)))+B1,W2.view(3,1))+B2)"
      ],
      "execution_count": 0,
      "outputs": [
        {
          "output_type": "error",
          "ename": "SyntaxError",
          "evalue": "ignored",
          "traceback": [
            "\u001b[0;36m  File \u001b[0;32m\"<ipython-input-10-f6386bb0069a>\"\u001b[0;36m, line \u001b[0;32m1\u001b[0m\n\u001b[0;31m    y=activation(torch.sum(torch.mm(torch.sum(torch.mm(features,W1.view(3,1)))+B1,W2.view(3,1))+B2)\u001b[0m\n\u001b[0m                                                                                                   ^\u001b[0m\n\u001b[0;31mSyntaxError\u001b[0m\u001b[0;31m:\u001b[0m unexpected EOF while parsing\n"
          ]
        }
      ]
    },
    {
      "cell_type": "code",
      "metadata": {
        "id": "0GScJjJQ9Q_9",
        "colab_type": "code",
        "colab": {
          "base_uri": "https://localhost:8080/",
          "height": 34
        },
        "outputId": "145723ac-a885-41f3-d9f2-f19538e3045e"
      },
      "source": [
        "h=activation(torch.mm(features, W1)+B1)\n",
        "output=activation(torch.mm(h,W2)+B2)\n",
        "print(output)"
      ],
      "execution_count": 19,
      "outputs": [
        {
          "output_type": "stream",
          "text": [
            "tensor([[0.8371]])\n"
          ],
          "name": "stdout"
        }
      ]
    }
  ]
}